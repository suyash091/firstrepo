{
  "nbformat": 4,
  "nbformat_minor": 0,
  "metadata": {
    "colab": {
      "name": "Untitled1.ipynb",
      "version": "0.3.2",
      "provenance": [],
      "include_colab_link": true
    },
    "language_info": {
      "codemirror_mode": {
        "name": "ipython",
        "version": 3
      },
      "file_extension": ".py",
      "mimetype": "text/x-python",
      "name": "python",
      "nbconvert_exporter": "python",
      "pygments_lexer": "ipython3",
      "version": "3.6.5"
    },
    "kernelspec": {
      "display_name": "Python 3",
      "language": "python",
      "name": "python3"
    }
  },
  "cells": [
    {
      "cell_type": "markdown",
      "metadata": {
        "id": "view-in-github",
        "colab_type": "text"
      },
      "source": [
        "<a href=\"https://colab.research.google.com/github/suyash091/firstrepo/blob/master/Untitled1.ipynb\" target=\"_parent\"><img src=\"https://colab.research.google.com/assets/colab-badge.svg\" alt=\"Open In Colab\"/></a>"
      ]
    },
    {
      "metadata": {
        "id": "AiPMbqFzZ9Ii",
        "colab_type": "text"
      },
      "cell_type": "markdown",
      "source": [
        "# Calculator Basic"
      ]
    },
    {
      "metadata": {
        "id": "DZD9xiHaaITE",
        "colab_type": "text"
      },
      "cell_type": "markdown",
      "source": [
        "Submitted by:- Suyash Dixit and Nishtha Gupta"
      ]
    },
    {
      "metadata": {
        "id": "NQkc3DTzajXR",
        "colab_type": "text"
      },
      "cell_type": "markdown",
      "source": [
        "**Basic Calculator implementation**"
      ]
    },
    {
      "metadata": {
        "id": "ButUALdu3ikm",
        "colab_type": "code",
        "outputId": "b50992a9-33c7-4cea-fe18-b58a252f899a",
        "colab": {}
      },
      "cell_type": "code",
      "source": [
        " def add(a,b) :\n",
        "    return a+b\n",
        " def multiply(a,b) :\n",
        "    return a*b\n",
        " def substract(a,b) :\n",
        "    return a-b \n",
        " def divide(a,b) : \n",
        "    return a/b\n",
        "\n",
        "print(add(4,3))\n",
        "print(multiply(4,3))\n",
        "print(substract(4,3))\n",
        "print(divide(4,3))\n"
      ],
      "execution_count": 0,
      "outputs": [
        {
          "output_type": "stream",
          "text": [
            "7\n",
            "12\n",
            "1\n",
            "1.3333333333333333\n"
          ],
          "name": "stdout"
        }
      ]
    },
    {
      "metadata": {
        "id": "aPr8PcnpaRhh",
        "colab_type": "text"
      },
      "cell_type": "markdown",
      "source": [
        "**Prime Number or not**"
      ]
    },
    {
      "metadata": {
        "id": "tgTNSd_o3ik9",
        "colab_type": "code",
        "outputId": "6c9b8dae-854b-4b5c-a9f0-45b24ddd773e",
        "colab": {
          "base_uri": "https://localhost:8080/",
          "height": 34
        }
      },
      "cell_type": "code",
      "source": [
        "def prime(a) :\n",
        "    count=0\n",
        "    for i in range(1,a+1) :\n",
        "        if a%i==0 :\n",
        "            count+=1\n",
        "    if count<=2 :\n",
        "        print(\"prime\")\n",
        "    else :\n",
        "        print(\"not a prime\")\n",
        "\n",
        "prime(5)"
      ],
      "execution_count": 0,
      "outputs": [
        {
          "output_type": "stream",
          "text": [
            "prime\n"
          ],
          "name": "stdout"
        }
      ]
    },
    {
      "metadata": {
        "id": "5IOJGmExazAQ",
        "colab_type": "text"
      },
      "cell_type": "markdown",
      "source": [
        "**Calculator with GUI**"
      ]
    },
    {
      "metadata": {
        "id": "QEoqVhcla7Lm",
        "colab_type": "code",
        "colab": {
          "base_uri": "https://localhost:8080/",
          "height": 350
        },
        "outputId": "9ec80f76-0f39-48ad-ed1e-82a60eb9dab6"
      },
      "cell_type": "code",
      "source": [
        "#can only be run locally\n",
        "from tkinter import*\n",
        "\n",
        "me=Tk()\n",
        "me.geometry(\"354x460\")\n",
        "me.title(\"CALCULATOR\")\n",
        "melabel = Label(me,text=\"by Suyash and Nishtha\",bg='White',font=(\"Times\",20,'bold'))\n",
        "melabel.pack(side=TOP)\n",
        "me.config(background='Dark gray')\n",
        "\n",
        "textin=StringVar()\n",
        "operator=\"\"\n",
        "\n",
        "def buttonclk(number):   #lambda:buttonclk(1)\n",
        "     global operator\n",
        "     operator=operator+str(number)\n",
        "     textin.set(operator)\n",
        "\n",
        "def calc():\n",
        "     global operator\n",
        "     operate=str(eval(operator))\n",
        "     textin.set(operate)\n",
        "     operator=''\n",
        "  \n",
        "\n",
        "def clearall():\n",
        "     textin.set('')\n",
        "\n",
        "     \n",
        "metext=Entry(me,font=(\"Courier New\",12,'bold'),textvar=textin,width=25,bd=5,bg='powder blue')\n",
        "metext.pack()\n",
        "\n",
        "but1=Button(me,padx=14,pady=14,bd=4,bg='white',command=lambda:buttonclk(1),text=\"1\",font=(\"Courier New\",16,'bold'))\n",
        "but1.place(x=10,y=100)\n",
        "\n",
        "but2=Button(me,padx=14,pady=14,bd=4,bg='white',command=lambda:buttonclk(2),text=\"2\",font=(\"Courier New\",16,'bold'))\n",
        "but2.place(x=10,y=170)\n",
        "\n",
        "but3=Button(me,padx=14,pady=14,bd=4,bg='white',command=lambda:buttonclk(3),text=\"3\",font=(\"Courier New\",16,'bold'))\n",
        "but3.place(x=10,y=240)\n",
        "\n",
        "but4=Button(me,padx=14,pady=14,bd=4,bg='white',command=lambda:buttonclk(4),text=\"4\",font=(\"Courier New\",16,'bold'))\n",
        "but4.place(x=75,y=100)\n",
        "\n",
        "but5=Button(me,padx=14,pady=14,bd=4,bg='white',command=lambda:buttonclk(5),text=\"5\",font=(\"Courier New\",16,'bold'))\n",
        "but5.place(x=75,y=170)\n",
        "\n",
        "but6=Button(me,padx=14,pady=14,bd=4,bg='white',command=lambda:buttonclk(6),text=\"6\",font=(\"Courier New\",16,'bold'))\n",
        "but6.place(x=75,y=240)\n",
        "\n",
        "but7=Button(me,padx=14,pady=14,bd=4,bg='white',command=lambda:buttonclk(7),text=\"7\",font=(\"Courier New\",16,'bold'))\n",
        "but7.place(x=140,y=100)\n",
        "\n",
        "but8=Button(me,padx=14,pady=14,bd=4,bg='white',command=lambda:buttonclk(8),text=\"8\",font=(\"Courier New\",16,'bold'))\n",
        "but8.place(x=140,y=170)\n",
        "\n",
        "but9=Button(me,padx=14,pady=14,bd=4,bg='white',command=lambda:buttonclk(9),text=\"9\",font=(\"Courier New\",16,'bold'))\n",
        "but9.place(x=140,y=240)\n",
        "\n",
        "but0=Button(me,padx=14,pady=14,bd=4,bg='white',command=lambda:buttonclk(0),text=\"0\",font=(\"Courier New\",16,'bold'))\n",
        "but0.place(x=10,y=310)\n",
        "\n",
        "butdot=Button(me,padx=47,pady=14,bd=4,bg='white',command=lambda:buttonclk(\".\"),text=\".\",font=(\"Courier New\",16,'bold'))\n",
        "butdot.place(x=75,y=310)\n",
        "\n",
        "butpl=Button(me,padx=14,pady=14,bd=4,bg='white',text=\"+\",command=lambda:buttonclk(\"+\"),font=(\"Courier New\",16,'bold'))\n",
        "butpl.place(x=205,y=100)\n",
        "\n",
        "butsub=Button(me,padx=14,pady=14,bd=4,bg='white',text=\"-\",command=lambda:buttonclk(\"-\"),font=(\"Courier New\",16,'bold'))\n",
        "butsub.place(x=205,y=170)\n",
        "\n",
        "butml=Button(me,padx=14,pady=14,bd=4,bg='white',text=\"*\",command=lambda:buttonclk(\"*\"),font=(\"Courier New\",16,'bold'))\n",
        "butml.place(x=205,y=240)\n",
        "\n",
        "butdiv=Button(me,padx=14,pady=14,bd=4,bg='white',text=\"/\",command=lambda:buttonclk(\"/\"),font=(\"Courier New\",16,'bold'))\n",
        "butdiv.place(x=205,y=310)\n",
        "\n",
        "butclear=Button(me,padx=14,pady=119,bd=4,bg='white',text=\"CE\",command=clearall,font=(\"Courier New\",16,'bold'))\n",
        "butclear.place(x=270,y=100)\n",
        "\n",
        "butequal=Button(me,padx=151,pady=14,bd=4,bg='white',command=calc,text=\"=\",font=(\"Courier New\",16,'bold'))\n",
        "butequal.place(x=10,y=380)\n",
        "\n",
        "me.mainloop()\n"
      ],
      "execution_count": 1,
      "outputs": [
        {
          "output_type": "error",
          "ename": "TclError",
          "evalue": "ignored",
          "traceback": [
            "\u001b[0;31m---------------------------------------------------------------------------\u001b[0m",
            "\u001b[0;31mTclError\u001b[0m                                  Traceback (most recent call last)",
            "\u001b[0;32m<ipython-input-1-3b8accda75b6>\u001b[0m in \u001b[0;36m<module>\u001b[0;34m()\u001b[0m\n\u001b[1;32m      1\u001b[0m \u001b[0;32mfrom\u001b[0m \u001b[0mtkinter\u001b[0m \u001b[0;32mimport\u001b[0m\u001b[0;34m*\u001b[0m\u001b[0;34m\u001b[0m\u001b[0;34m\u001b[0m\u001b[0m\n\u001b[1;32m      2\u001b[0m \u001b[0;34m\u001b[0m\u001b[0m\n\u001b[0;32m----> 3\u001b[0;31m \u001b[0mme\u001b[0m\u001b[0;34m=\u001b[0m\u001b[0mTk\u001b[0m\u001b[0;34m(\u001b[0m\u001b[0;34m)\u001b[0m\u001b[0;34m\u001b[0m\u001b[0;34m\u001b[0m\u001b[0m\n\u001b[0m\u001b[1;32m      4\u001b[0m \u001b[0mme\u001b[0m\u001b[0;34m.\u001b[0m\u001b[0mgeometry\u001b[0m\u001b[0;34m(\u001b[0m\u001b[0;34m\"354x460\"\u001b[0m\u001b[0;34m)\u001b[0m\u001b[0;34m\u001b[0m\u001b[0;34m\u001b[0m\u001b[0m\n\u001b[1;32m      5\u001b[0m \u001b[0mme\u001b[0m\u001b[0;34m.\u001b[0m\u001b[0mtitle\u001b[0m\u001b[0;34m(\u001b[0m\u001b[0;34m\"CALCULATOR\"\u001b[0m\u001b[0;34m)\u001b[0m\u001b[0;34m\u001b[0m\u001b[0;34m\u001b[0m\u001b[0m\n",
            "\u001b[0;32m/usr/lib/python3.6/tkinter/__init__.py\u001b[0m in \u001b[0;36m__init__\u001b[0;34m(self, screenName, baseName, className, useTk, sync, use)\u001b[0m\n\u001b[1;32m   2021\u001b[0m                 \u001b[0mbaseName\u001b[0m \u001b[0;34m=\u001b[0m \u001b[0mbaseName\u001b[0m \u001b[0;34m+\u001b[0m \u001b[0mext\u001b[0m\u001b[0;34m\u001b[0m\u001b[0;34m\u001b[0m\u001b[0m\n\u001b[1;32m   2022\u001b[0m         \u001b[0minteractive\u001b[0m \u001b[0;34m=\u001b[0m \u001b[0;36m0\u001b[0m\u001b[0;34m\u001b[0m\u001b[0;34m\u001b[0m\u001b[0m\n\u001b[0;32m-> 2023\u001b[0;31m         \u001b[0mself\u001b[0m\u001b[0;34m.\u001b[0m\u001b[0mtk\u001b[0m \u001b[0;34m=\u001b[0m \u001b[0m_tkinter\u001b[0m\u001b[0;34m.\u001b[0m\u001b[0mcreate\u001b[0m\u001b[0;34m(\u001b[0m\u001b[0mscreenName\u001b[0m\u001b[0;34m,\u001b[0m \u001b[0mbaseName\u001b[0m\u001b[0;34m,\u001b[0m \u001b[0mclassName\u001b[0m\u001b[0;34m,\u001b[0m \u001b[0minteractive\u001b[0m\u001b[0;34m,\u001b[0m \u001b[0mwantobjects\u001b[0m\u001b[0;34m,\u001b[0m \u001b[0museTk\u001b[0m\u001b[0;34m,\u001b[0m \u001b[0msync\u001b[0m\u001b[0;34m,\u001b[0m \u001b[0muse\u001b[0m\u001b[0;34m)\u001b[0m\u001b[0;34m\u001b[0m\u001b[0;34m\u001b[0m\u001b[0m\n\u001b[0m\u001b[1;32m   2024\u001b[0m         \u001b[0;32mif\u001b[0m \u001b[0museTk\u001b[0m\u001b[0;34m:\u001b[0m\u001b[0;34m\u001b[0m\u001b[0;34m\u001b[0m\u001b[0m\n\u001b[1;32m   2025\u001b[0m             \u001b[0mself\u001b[0m\u001b[0;34m.\u001b[0m\u001b[0m_loadtk\u001b[0m\u001b[0;34m(\u001b[0m\u001b[0;34m)\u001b[0m\u001b[0;34m\u001b[0m\u001b[0;34m\u001b[0m\u001b[0m\n",
            "\u001b[0;31mTclError\u001b[0m: no display name and no $DISPLAY environment variable"
          ]
        }
      ]
    },
    {
      "metadata": {
        "id": "Lvulfc1IbgJa",
        "colab_type": "text"
      },
      "cell_type": "markdown",
      "source": [
        "**LINK to packed EXE**\n",
        "https://drive.google.com/file/d/1fYB9_gE-1qBCDAjmks7CUpxZbd7Pgm9A/view?usp=sharing"
      ]
    }
  ]
}